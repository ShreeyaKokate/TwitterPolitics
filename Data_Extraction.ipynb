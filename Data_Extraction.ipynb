{
  "nbformat": 4,
  "nbformat_minor": 0,
  "metadata": {
    "colab": {
      "name": "Data_Extraction.ipynb",
      "provenance": [],
      "collapsed_sections": [],
      "include_colab_link": true
    },
    "kernelspec": {
      "name": "python3",
      "display_name": "Python 3"
    }
  },
  "cells": [
    {
      "cell_type": "markdown",
      "metadata": {
        "id": "view-in-github",
        "colab_type": "text"
      },
      "source": [
        "<a href=\"https://colab.research.google.com/github/ShreeyaKokate/TwitterPolitics/blob/master/Data_Extraction.ipynb\" target=\"_parent\"><img src=\"https://colab.research.google.com/assets/colab-badge.svg\" alt=\"Open In Colab\"/></a>"
      ]
    },
    {
      "cell_type": "markdown",
      "metadata": {
        "id": "s5YGi5vL03bf",
        "colab_type": "text"
      },
      "source": [
        "#Data Extraction \n",
        "Using GetOldTweets3\n"
      ]
    },
    {
      "cell_type": "code",
      "metadata": {
        "id": "mjVcgBxglfm_",
        "colab_type": "code",
        "colab": {
          "base_uri": "https://localhost:8080/",
          "height": 121
        },
        "outputId": "2cb1b76c-afdf-42ca-875d-0db077ca5433"
      },
      "source": [
        "from google.colab import drive\n",
        "drive.mount('/content/drive')"
      ],
      "execution_count": 1,
      "outputs": [
        {
          "output_type": "stream",
          "text": [
            "Go to this URL in a browser: https://accounts.google.com/o/oauth2/auth?client_id=947318989803-6bn6qk8qdgf4n4g3pfee6491hc0brc4i.apps.googleusercontent.com&redirect_uri=urn%3aietf%3awg%3aoauth%3a2.0%3aoob&response_type=code&scope=email%20https%3a%2f%2fwww.googleapis.com%2fauth%2fdocs.test%20https%3a%2f%2fwww.googleapis.com%2fauth%2fdrive%20https%3a%2f%2fwww.googleapis.com%2fauth%2fdrive.photos.readonly%20https%3a%2f%2fwww.googleapis.com%2fauth%2fpeopleapi.readonly\n",
            "\n",
            "Enter your authorization code:\n",
            "··········\n",
            "Mounted at /content/drive\n"
          ],
          "name": "stdout"
        }
      ]
    },
    {
      "cell_type": "code",
      "metadata": {
        "id": "Qum6tli6-Q1W",
        "colab_type": "code",
        "colab": {
          "base_uri": "https://localhost:8080/",
          "height": 188
        },
        "outputId": "14740521-b2aa-470b-ae88-21bdcae6a4b6"
      },
      "source": [
        "!pip install GetOldTweets3"
      ],
      "execution_count": 2,
      "outputs": [
        {
          "output_type": "stream",
          "text": [
            "Collecting GetOldTweets3\n",
            "  Downloading https://files.pythonhosted.org/packages/ed/f4/a00c2a7c90801abc875325bb5416ce9090ac86d06a00cc887131bd73ba45/GetOldTweets3-0.0.11-py3-none-any.whl\n",
            "Requirement already satisfied: lxml>=3.5.0 in /usr/local/lib/python3.6/dist-packages (from GetOldTweets3) (4.2.6)\n",
            "Collecting pyquery>=1.2.10\n",
            "  Downloading https://files.pythonhosted.org/packages/78/43/95d42e386c61cb639d1a0b94f0c0b9f0b7d6b981ad3c043a836c8b5bc68b/pyquery-1.4.1-py2.py3-none-any.whl\n",
            "Collecting cssselect>0.7.9\n",
            "  Downloading https://files.pythonhosted.org/packages/3b/d4/3b5c17f00cce85b9a1e6f91096e1cc8e8ede2e1be8e96b87ce1ed09e92c5/cssselect-1.1.0-py2.py3-none-any.whl\n",
            "Installing collected packages: cssselect, pyquery, GetOldTweets3\n",
            "Successfully installed GetOldTweets3-0.0.11 cssselect-1.1.0 pyquery-1.4.1\n"
          ],
          "name": "stdout"
        }
      ]
    },
    {
      "cell_type": "code",
      "metadata": {
        "id": "GnXaiq0OE9k0",
        "colab_type": "code",
        "colab": {}
      },
      "source": [
        "import GetOldTweets3 as got\n",
        "import pandas as pd"
      ],
      "execution_count": 3,
      "outputs": []
    },
    {
      "cell_type": "code",
      "metadata": {
        "id": "LFEIsLtAFOeD",
        "colab_type": "code",
        "colab": {
          "base_uri": "https://localhost:8080/",
          "height": 34
        },
        "outputId": "ec7e9181-236c-4619-eb38-cc982c457b2f"
      },
      "source": [
        "tweetCriteria = got.manager.TweetCriteria().setQuerySearch('#Defundpolice')\\\n",
        "                                           .setSince(\"2018-01-01\")\\\n",
        "                                           .setUntil(\"2019-01-01\")\n",
        "\n",
        "tweets = got.manager.TweetManager.getTweets(tweetCriteria)\n",
        "results = [[tweet.id, tweet.text, tweet.username, tweet.retweets, tweet.favorites,tweet.date, tweet.geo,  tweet.mentions, tweet.hashtags, tweet.permalink] for tweet in tweets]\n",
        "data_set = pd.DataFrame(data=results, columns=['id', 'text','user', 'retweets', 'favourites', 'date', 'geo', 'mentions', 'hashtags', 'permalink'])\n",
        "\n",
        "print(len(data_set))"
      ],
      "execution_count": 8,
      "outputs": [
        {
          "output_type": "stream",
          "text": [
            "396\n"
          ],
          "name": "stdout"
        }
      ]
    },
    {
      "cell_type": "code",
      "metadata": {
        "id": "DYZj7SlJJa_x",
        "colab_type": "code",
        "colab": {
          "base_uri": "https://localhost:8080/",
          "height": 252
        },
        "outputId": "bed703ce-f5f6-48a8-a5ef-8d8b44c982ab"
      },
      "source": [
        "print(data_set)"
      ],
      "execution_count": null,
      "outputs": [
        {
          "output_type": "stream",
          "text": [
            "                     id  ...                                          permalink\n",
            "0    946802062616080390  ...  https://twitter.com/fuadynet2017/status/946802...\n",
            "1    946793097077448704  ...  https://twitter.com/Leolyloo/status/9467930970...\n",
            "2    946559004796432384  ...  https://twitter.com/Solvaig/status/94655900479...\n",
            "3    946372819218255872  ...  https://twitter.com/iROZHLAScz/status/94637281...\n",
            "4    945934850657099777  ...  https://twitter.com/boba_oudou/status/94593485...\n",
            "..                  ...  ...                                                ...\n",
            "359  917086954742829056  ...  https://twitter.com/florenenero/status/9170869...\n",
            "360  917086947230781442  ...  https://twitter.com/aboohleel/status/917086947...\n",
            "361  917086926666158086  ...  https://twitter.com/aboohleel/status/917086926...\n",
            "362  917086907636551683  ...  https://twitter.com/aboohleel/status/917086907...\n",
            "363  917086885629046784  ...  https://twitter.com/aboohleel/status/917086885...\n",
            "\n",
            "[364 rows x 10 columns]\n"
          ],
          "name": "stdout"
        }
      ]
    },
    {
      "cell_type": "code",
      "metadata": {
        "id": "tRzhotQxR2BF",
        "colab_type": "code",
        "colab": {}
      },
      "source": [
        "data_set.to_csv(\"/content/drive/My Drive/TwitterPoliticsData/HashtagSearch/YemenInquiryNow/OriginalData/17-28.csv\")"
      ],
      "execution_count": null,
      "outputs": []
    }
  ]
}